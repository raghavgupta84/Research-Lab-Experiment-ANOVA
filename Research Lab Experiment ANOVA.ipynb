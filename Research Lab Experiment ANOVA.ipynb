{
 "cells": [
  {
   "cell_type": "markdown",
   "metadata": {},
   "source": [
    "# Research laboratory new compound experiment\n",
    "\n",
    "## Problem Statement:\n",
    "\n",
    "A research laboratory was developing a new compound for the relief of severe cases of hay fever. In an experiment with 36 volunteers, the amounts of the two active ingredients (A & B) in the compound were varied at three levels each. Randomization was used in assigning four volunteers to each of the nine treatments. The data on hours of relief can be found in the following .csv file: Fever.csv"
   ]
  },
  {
   "cell_type": "markdown",
   "metadata": {},
   "source": [
    "## Data Description:\n",
    "\n",
    "The data consists of 36 volunteers, the amounts of the two active ingredients (A & B) in the compound were varied at three levels each. Randomization was used in assigning four volunteers to each of the nine treatments. The data on hours of relief can be found in the following .csv file: Fever.csv\n",
    "\n",
    "\n",
    "## Domain:\n",
    "Healthcare\n",
    "\n",
    "## Context:\n",
    "A research laboratory was developing a new compound for the relief of severe cases of hay fever. In an experiment with 36 volunteers, the amounts of the two active ingredients (A & B) in the compound were varied at three levels each. Randomization was used in assigning four volunteers to each of the nine treatments.\n",
    "\n",
    "## Attribute Information:\n",
    "\n",
    "- A\t: Ingredient A in compound\n",
    "- B : Ingredient B in compound\n",
    "- Volunteer : Volunteer no (1 to 4)\n",
    "- Relief : Hours of reilef\n",
    "\n"
   ]
  },
  {
   "cell_type": "markdown",
   "metadata": {},
   "source": [
    "## Import all the necessary libraries"
   ]
  },
  {
   "cell_type": "code",
   "execution_count": 24,
   "metadata": {
    "ExecuteTime": {
     "end_time": "2020-04-24T08:50:41.511617Z",
     "start_time": "2020-04-24T08:50:41.459755Z"
    },
    "colab": {},
    "colab_type": "code",
    "id": "RRIlDGgevFvW"
   },
   "outputs": [],
   "source": [
    "import numpy as np\n",
    "import pandas as pd\n",
    "from scipy.stats import f\n",
    "import matplotlib.pyplot as plt \n",
    "%matplotlib inline\n",
    "import seaborn as sns\n",
    "import scipy.stats as stats\n",
    "from scipy.stats import ttest_1samp, ttest_ind\n",
    "from statsmodels.stats.power import ttest_power\n",
    "from scipy.stats import variation # for variation\n",
    "from statsmodels.formula.api import ols      # For n-way ANOVA\n",
    "from statsmodels.stats.anova import _get_covariance,anova_lm # For n-way ANOVA\n",
    "from statsmodels.stats.multicomp import pairwise_tukeyhsd # for tukeyhsd\n",
    "from statsmodels.stats.multicomp import MultiComparison # for tukeyhsd"
   ]
  },
  {
   "cell_type": "markdown",
   "metadata": {},
   "source": [
    "## Read the data into the notebook\n"
   ]
  },
  {
   "cell_type": "code",
   "execution_count": 25,
   "metadata": {},
   "outputs": [],
   "source": [
    "df1= pd.read_csv('Fever-1.csv')"
   ]
  },
  {
   "cell_type": "code",
   "execution_count": 26,
   "metadata": {},
   "outputs": [
    {
     "data": {
      "text/html": [
       "<div>\n",
       "<style scoped>\n",
       "    .dataframe tbody tr th:only-of-type {\n",
       "        vertical-align: middle;\n",
       "    }\n",
       "\n",
       "    .dataframe tbody tr th {\n",
       "        vertical-align: top;\n",
       "    }\n",
       "\n",
       "    .dataframe thead th {\n",
       "        text-align: right;\n",
       "    }\n",
       "</style>\n",
       "<table border=\"1\" class=\"dataframe\">\n",
       "  <thead>\n",
       "    <tr style=\"text-align: right;\">\n",
       "      <th></th>\n",
       "      <th>A</th>\n",
       "      <th>B</th>\n",
       "      <th>Volunteer</th>\n",
       "      <th>Relief</th>\n",
       "    </tr>\n",
       "  </thead>\n",
       "  <tbody>\n",
       "    <tr>\n",
       "      <th>0</th>\n",
       "      <td>1</td>\n",
       "      <td>1</td>\n",
       "      <td>1</td>\n",
       "      <td>2.4</td>\n",
       "    </tr>\n",
       "    <tr>\n",
       "      <th>1</th>\n",
       "      <td>1</td>\n",
       "      <td>1</td>\n",
       "      <td>2</td>\n",
       "      <td>2.7</td>\n",
       "    </tr>\n",
       "    <tr>\n",
       "      <th>2</th>\n",
       "      <td>1</td>\n",
       "      <td>1</td>\n",
       "      <td>3</td>\n",
       "      <td>2.3</td>\n",
       "    </tr>\n",
       "    <tr>\n",
       "      <th>3</th>\n",
       "      <td>1</td>\n",
       "      <td>1</td>\n",
       "      <td>4</td>\n",
       "      <td>2.5</td>\n",
       "    </tr>\n",
       "    <tr>\n",
       "      <th>4</th>\n",
       "      <td>1</td>\n",
       "      <td>2</td>\n",
       "      <td>1</td>\n",
       "      <td>4.6</td>\n",
       "    </tr>\n",
       "  </tbody>\n",
       "</table>\n",
       "</div>"
      ],
      "text/plain": [
       "   A  B  Volunteer  Relief\n",
       "0  1  1          1     2.4\n",
       "1  1  1          2     2.7\n",
       "2  1  1          3     2.3\n",
       "3  1  1          4     2.5\n",
       "4  1  2          1     4.6"
      ]
     },
     "execution_count": 26,
     "metadata": {},
     "output_type": "execute_result"
    }
   ],
   "source": [
    "df1.head()"
   ]
  },
  {
   "cell_type": "markdown",
   "metadata": {},
   "source": [
    "## Exploratory Data Analysis \n",
    " ## Checking the data types /information\n"
   ]
  },
  {
   "cell_type": "code",
   "execution_count": 27,
   "metadata": {},
   "outputs": [
    {
     "name": "stdout",
     "output_type": "stream",
     "text": [
      "<class 'pandas.core.frame.DataFrame'>\n",
      "RangeIndex: 36 entries, 0 to 35\n",
      "Data columns (total 4 columns):\n",
      " #   Column     Non-Null Count  Dtype  \n",
      "---  ------     --------------  -----  \n",
      " 0   A          36 non-null     int64  \n",
      " 1   B          36 non-null     int64  \n",
      " 2   Volunteer  36 non-null     int64  \n",
      " 3   Relief     36 non-null     float64\n",
      "dtypes: float64(1), int64(3)\n",
      "memory usage: 1.2 KB\n"
     ]
    }
   ],
   "source": [
    "df1.info()"
   ]
  },
  {
   "cell_type": "markdown",
   "metadata": {},
   "source": [
    "The data set contains 36 observations of data and 4 variables. Column A , B and Volunteer seems to be a discrete numeric variable while Relief is a continous numeric variable. Since non null count is same in every column variable and is equal to total rows, hence there is no null data in any of these columns\n",
    "\n",
    "Also A, B and Volunteer here looks like categorical variables where value of each column denote some category"
   ]
  },
  {
   "cell_type": "markdown",
   "metadata": {},
   "source": [
    "## Checking for missing values"
   ]
  },
  {
   "cell_type": "code",
   "execution_count": 28,
   "metadata": {},
   "outputs": [
    {
     "data": {
      "text/plain": [
       "A            0\n",
       "B            0\n",
       "Volunteer    0\n",
       "Relief       0\n",
       "dtype: int64"
      ]
     },
     "execution_count": 28,
     "metadata": {},
     "output_type": "execute_result"
    }
   ],
   "source": [
    "# Check for missing value in any colum\n",
    "df1.isnull().sum()"
   ]
  },
  {
   "cell_type": "markdown",
   "metadata": {},
   "source": [
    "We can confirm that there is no NULL value"
   ]
  },
  {
   "cell_type": "markdown",
   "metadata": {},
   "source": [
    "## Checking the shape (Number of rows and columns)"
   ]
  },
  {
   "cell_type": "code",
   "execution_count": 29,
   "metadata": {},
   "outputs": [
    {
     "data": {
      "text/plain": [
       "(36, 4)"
      ]
     },
     "execution_count": 29,
     "metadata": {},
     "output_type": "execute_result"
    }
   ],
   "source": [
    "df1.shape"
   ]
  },
  {
   "cell_type": "markdown",
   "metadata": {},
   "source": [
    "## Checking the value counts "
   ]
  },
  {
   "cell_type": "code",
   "execution_count": 30,
   "metadata": {},
   "outputs": [
    {
     "data": {
      "text/plain": [
       "3    12\n",
       "2    12\n",
       "1    12\n",
       "Name: A, dtype: int64"
      ]
     },
     "execution_count": 30,
     "metadata": {},
     "output_type": "execute_result"
    }
   ],
   "source": [
    "df1.A.value_counts()"
   ]
  },
  {
   "cell_type": "markdown",
   "metadata": {},
   "source": [
    "There are 12 rows each for 3 different ingredient values of A (1,2,3)"
   ]
  },
  {
   "cell_type": "code",
   "execution_count": 31,
   "metadata": {},
   "outputs": [
    {
     "data": {
      "text/plain": [
       "3    12\n",
       "2    12\n",
       "1    12\n",
       "Name: B, dtype: int64"
      ]
     },
     "execution_count": 31,
     "metadata": {},
     "output_type": "execute_result"
    }
   ],
   "source": [
    "df1.B.value_counts()"
   ]
  },
  {
   "cell_type": "markdown",
   "metadata": {},
   "source": [
    "There are 12 rows each for 3 different ingredient values of B (1,2,3)"
   ]
  },
  {
   "cell_type": "code",
   "execution_count": 32,
   "metadata": {},
   "outputs": [
    {
     "data": {
      "text/plain": [
       "4    9\n",
       "3    9\n",
       "2    9\n",
       "1    9\n",
       "Name: Volunteer, dtype: int64"
      ]
     },
     "execution_count": 32,
     "metadata": {},
     "output_type": "execute_result"
    }
   ],
   "source": [
    "df1.Volunteer.value_counts()"
   ]
  },
  {
   "cell_type": "markdown",
   "metadata": {},
   "source": [
    "There are 9 rows each for 4 different Volunteers (1,2,3,4)"
   ]
  },
  {
   "cell_type": "markdown",
   "metadata": {},
   "source": [
    "## Checking for duplicates"
   ]
  },
  {
   "cell_type": "code",
   "execution_count": 33,
   "metadata": {},
   "outputs": [
    {
     "name": "stdout",
     "output_type": "stream",
     "text": [
      "Number of duplicate rows = 0\n"
     ]
    },
    {
     "data": {
      "text/html": [
       "<div>\n",
       "<style scoped>\n",
       "    .dataframe tbody tr th:only-of-type {\n",
       "        vertical-align: middle;\n",
       "    }\n",
       "\n",
       "    .dataframe tbody tr th {\n",
       "        vertical-align: top;\n",
       "    }\n",
       "\n",
       "    .dataframe thead th {\n",
       "        text-align: right;\n",
       "    }\n",
       "</style>\n",
       "<table border=\"1\" class=\"dataframe\">\n",
       "  <thead>\n",
       "    <tr style=\"text-align: right;\">\n",
       "      <th></th>\n",
       "      <th>A</th>\n",
       "      <th>B</th>\n",
       "      <th>Volunteer</th>\n",
       "      <th>Relief</th>\n",
       "    </tr>\n",
       "  </thead>\n",
       "  <tbody>\n",
       "  </tbody>\n",
       "</table>\n",
       "</div>"
      ],
      "text/plain": [
       "Empty DataFrame\n",
       "Columns: [A, B, Volunteer, Relief]\n",
       "Index: []"
      ]
     },
     "execution_count": 33,
     "metadata": {},
     "output_type": "execute_result"
    }
   ],
   "source": [
    "# Check for duplicate data\n",
    "\n",
    "dups = df1.duplicated()\n",
    "print('Number of duplicate rows = %d' % (dups.sum()))\n",
    "\n",
    "df1[dups]"
   ]
  },
  {
   "cell_type": "markdown",
   "metadata": {},
   "source": [
    "No duplicates are present in the data"
   ]
  },
  {
   "cell_type": "markdown",
   "metadata": {},
   "source": [
    "## Checking for summary"
   ]
  },
  {
   "cell_type": "code",
   "execution_count": 34,
   "metadata": {},
   "outputs": [
    {
     "data": {
      "text/html": [
       "<div>\n",
       "<style scoped>\n",
       "    .dataframe tbody tr th:only-of-type {\n",
       "        vertical-align: middle;\n",
       "    }\n",
       "\n",
       "    .dataframe tbody tr th {\n",
       "        vertical-align: top;\n",
       "    }\n",
       "\n",
       "    .dataframe thead th {\n",
       "        text-align: right;\n",
       "    }\n",
       "</style>\n",
       "<table border=\"1\" class=\"dataframe\">\n",
       "  <thead>\n",
       "    <tr style=\"text-align: right;\">\n",
       "      <th></th>\n",
       "      <th>count</th>\n",
       "      <th>mean</th>\n",
       "      <th>std</th>\n",
       "      <th>min</th>\n",
       "      <th>25%</th>\n",
       "      <th>50%</th>\n",
       "      <th>75%</th>\n",
       "      <th>max</th>\n",
       "    </tr>\n",
       "  </thead>\n",
       "  <tbody>\n",
       "    <tr>\n",
       "      <th>A</th>\n",
       "      <td>36.0</td>\n",
       "      <td>2.00</td>\n",
       "      <td>0.83</td>\n",
       "      <td>1.0</td>\n",
       "      <td>1.00</td>\n",
       "      <td>2.0</td>\n",
       "      <td>3.00</td>\n",
       "      <td>3.0</td>\n",
       "    </tr>\n",
       "    <tr>\n",
       "      <th>B</th>\n",
       "      <td>36.0</td>\n",
       "      <td>2.00</td>\n",
       "      <td>0.83</td>\n",
       "      <td>1.0</td>\n",
       "      <td>1.00</td>\n",
       "      <td>2.0</td>\n",
       "      <td>3.00</td>\n",
       "      <td>3.0</td>\n",
       "    </tr>\n",
       "    <tr>\n",
       "      <th>Volunteer</th>\n",
       "      <td>36.0</td>\n",
       "      <td>2.50</td>\n",
       "      <td>1.13</td>\n",
       "      <td>1.0</td>\n",
       "      <td>1.75</td>\n",
       "      <td>2.5</td>\n",
       "      <td>3.25</td>\n",
       "      <td>4.0</td>\n",
       "    </tr>\n",
       "    <tr>\n",
       "      <th>Relief</th>\n",
       "      <td>36.0</td>\n",
       "      <td>7.18</td>\n",
       "      <td>3.27</td>\n",
       "      <td>2.3</td>\n",
       "      <td>4.68</td>\n",
       "      <td>6.0</td>\n",
       "      <td>9.33</td>\n",
       "      <td>13.5</td>\n",
       "    </tr>\n",
       "  </tbody>\n",
       "</table>\n",
       "</div>"
      ],
      "text/plain": [
       "           count  mean   std  min   25%  50%   75%   max\n",
       "A           36.0  2.00  0.83  1.0  1.00  2.0  3.00   3.0\n",
       "B           36.0  2.00  0.83  1.0  1.00  2.0  3.00   3.0\n",
       "Volunteer   36.0  2.50  1.13  1.0  1.75  2.5  3.25   4.0\n",
       "Relief      36.0  7.18  3.27  2.3  4.68  6.0  9.33  13.5"
      ]
     },
     "execution_count": 34,
     "metadata": {},
     "output_type": "execute_result"
    }
   ],
   "source": [
    "df1.describe().round(2).T"
   ]
  },
  {
   "cell_type": "markdown",
   "metadata": {},
   "source": [
    "Ignoring A, B and Volunteer which are categorical in nature , we can see that :-\n",
    "\n",
    "- mean and median value of Relief variable is same. \n",
    "- 25% and 75% percentile value of Relief variable appears to be symmetric (difference of 0.75 each side)\n",
    "- Distribution of Relief variable looks normal"
   ]
  },
  {
   "cell_type": "markdown",
   "metadata": {},
   "source": [
    "## Check for Outliers (Which all variables have an outlier?)"
   ]
  },
  {
   "cell_type": "code",
   "execution_count": 35,
   "metadata": {},
   "outputs": [
    {
     "name": "stderr",
     "output_type": "stream",
     "text": [
      "C:\\Users\\Raghav Gupta\\anaconda3\\lib\\site-packages\\seaborn\\_core.py:1319: UserWarning: Vertical orientation ignored with only `x` specified.\n",
      "  warnings.warn(single_var_warning.format(\"Vertical\", \"x\"))\n"
     ]
    },
    {
     "data": {
      "image/png": "[encoded data removed]",
      "text/plain": [
       "<Figure size 432x432 with 1 Axes>"
      ]
     },
     "metadata": {
      "needs_background": "light"
     },
     "output_type": "display_data"
    }
   ],
   "source": [
    "# Checking for Outliers\n",
    "plt.figure(figsize= (6,6))\n",
    "sns.boxplot(x='Relief',data =df1 ,color='green', orient = 'v').set(title ='Box plot of Relief');\n"
   ]
  },
  {
   "cell_type": "markdown",
   "metadata": {},
   "source": [
    "As evident from above box plot, there is no outlier present."
   ]
  },
  {
   "cell_type": "markdown",
   "metadata": {},
   "source": [
    "## Plot the Histograms"
   ]
  },
  {
   "cell_type": "code",
   "execution_count": 47,
   "metadata": {},
   "outputs": [
    {
     "data": {
      "text/plain": [
       "<seaborn.axisgrid.FacetGrid at 0x2258266c970>"
      ]
     },
     "execution_count": 47,
     "metadata": {},
     "output_type": "execute_result"
    },
    {
     "data": {
      "image/png": "[encoded data removed]",
      "text/plain": [
       "<Figure size 360x360 with 1 Axes>"
      ]
     },
     "metadata": {
      "needs_background": "light"
     },
     "output_type": "display_data"
    }
   ],
   "source": [
    "#Plots to see the distribution of the continuous features individually\n",
    "sns.displot (df1.Relief,bins =5,kde=True)\n"
   ]
  },
  {
   "cell_type": "markdown",
   "metadata": {},
   "source": [
    "These histograms doesnt looks like Normal with a slight blip in the middle section. It will be confirmed further using Shapiro's Wilk Test."
   ]
  },
  {
   "cell_type": "markdown",
   "metadata": {},
   "source": [
    "## Converting to category variable"
   ]
  },
  {
   "cell_type": "code",
   "execution_count": 48,
   "metadata": {},
   "outputs": [],
   "source": [
    "# Converting into Category variable\n",
    "df1[\"A\"]= pd.Categorical(df1['A'])\n",
    "df1[\"B\"]= pd.Categorical(df1['B'])\n",
    "df1[\"Volunteer\"]= pd.Categorical(df1['Volunteer'])"
   ]
  },
  {
   "cell_type": "code",
   "execution_count": 49,
   "metadata": {},
   "outputs": [
    {
     "name": "stdout",
     "output_type": "stream",
     "text": [
      "<class 'pandas.core.frame.DataFrame'>\n",
      "RangeIndex: 36 entries, 0 to 35\n",
      "Data columns (total 4 columns):\n",
      " #   Column     Non-Null Count  Dtype   \n",
      "---  ------     --------------  -----   \n",
      " 0   A          36 non-null     category\n",
      " 1   B          36 non-null     category\n",
      " 2   Volunteer  36 non-null     category\n",
      " 3   Relief     36 non-null     float64 \n",
      "dtypes: category(3), float64(1)\n",
      "memory usage: 924.0 bytes\n"
     ]
    }
   ],
   "source": [
    "df1.info()"
   ]
  },
  {
   "cell_type": "markdown",
   "metadata": {},
   "source": [
    "Now we can see that A, B and Volunteer are categorical variables"
   ]
  },
  {
   "cell_type": "markdown",
   "metadata": {},
   "source": [
    "# 1.1) State the Null and Alternate Hypothesis for conducting one-way ANOVA for both the variables ‘A’ and ‘B’ individually. [both statement and statistical form like Ho=mu, Ha>mu]"
   ]
  },
  {
   "cell_type": "markdown",
   "metadata": {},
   "source": [
    "## Formulate the Null and Alternate Hypothesis for Variable 'A'\n",
    "\n",
    "\n",
    "\n",
    "**Null Hypothesis : The mean relief in hours is same for all three levels (1,2,3) of active ingredient A.**\n",
    "\n",
    "**$H_0$ :$\\mu_1$ =$\\mu_2$=$\\mu_3$**  \n",
    "\n",
    "             \n",
    "   where $\\mu$ is the sample mean and 1,2,3 are the levels for ingredient A\n",
    "\n",
    "\n",
    "\n",
    "**Alternate Hypothesis $H_A$ : The mean relief in hours is different for at-least one level (1,2 and 3) of active ingrdient A**\n",
    "\n",
    "**$H_A$ : Not All $\\mu_j$  are equal**\n",
    "\n",
    "where $\\mu_j$  is the sample mean for jth level for ingredient A. j can be 1,2 or 3\n",
    "\n"
   ]
  },
  {
   "cell_type": "markdown",
   "metadata": {},
   "source": [
    "## Formulate the Null and Alternate Hypothesis for Variable 'B'\n",
    "\n",
    "**Null Hypothesis : The mean relief in hours is same for all three levels (1,2,3) of active ingredient B.**\n",
    "\n",
    "**$H_0$ :$\\mu_1$ =$\\mu_2$=$\\mu_3$**   \n",
    "\n",
    "where $\\mu$ is the sample mean and 1,2,3 are the levels for ingredient B\n",
    "\n",
    "\n",
    "**Alternate Hypothesis $H_A$ : The mean relief in hours is different for at-least one level (1,2 and 3) of active ingrdient B**\n",
    "\n",
    "**$H_A$ : Not All $\\mu_j$  are equal** \n",
    "\n",
    "where $\\mu_j$  is the sample mean for jth level for ingredient B. j can be 1,2 or 3\n",
    "\n"
   ]
  },
  {
   "cell_type": "code",
   "execution_count": null,
   "metadata": {},
   "outputs": [],
   "source": []
  },
  {
   "cell_type": "markdown",
   "metadata": {},
   "source": [
    "# 1.2) Perform one-way ANOVA for variable ‘A’ with respect to the variable ‘Relief’. State whether the Null Hypothesis is accepted or rejected based on the ANOVA results."
   ]
  },
  {
   "cell_type": "markdown",
   "metadata": {},
   "source": [
    "# Plotting histogram and boxplot for different level of ingredient A"
   ]
  },
  {
   "cell_type": "code",
   "execution_count": 55,
   "metadata": {},
   "outputs": [],
   "source": [
    "#creating different dataframe for different levels of A\n",
    "A1 = df1[df1.A == 1]\n",
    "A2 = df1[df1.A == 2]\n",
    "A3 = df1[df1.A == 3]\n"
   ]
  },
  {
   "cell_type": "code",
   "execution_count": 56,
   "metadata": {},
   "outputs": [],
   "source": [
    "A1=A1.reset_index()\n",
    "A1.rename(columns ={'Relief':'A1'}, inplace =True)\n",
    "A2=A2.reset_index()\n",
    "A2.rename(columns ={'Relief':'A2'}, inplace =True)\n",
    "A3=A3.reset_index()\n",
    "A3.rename(columns ={'Relief':'A3'}, inplace =True)\n"
   ]
  },
  {
   "cell_type": "code",
   "execution_count": 57,
   "metadata": {},
   "outputs": [
    {
     "data": {
      "text/html": [
       "<div>\n",
       "<style scoped>\n",
       "    .dataframe tbody tr th:only-of-type {\n",
       "        vertical-align: middle;\n",
       "    }\n",
       "\n",
       "    .dataframe tbody tr th {\n",
       "        vertical-align: top;\n",
       "    }\n",
       "\n",
       "    .dataframe thead th {\n",
       "        text-align: right;\n",
       "    }\n",
       "</style>\n",
       "<table border=\"1\" class=\"dataframe\">\n",
       "  <thead>\n",
       "    <tr style=\"text-align: right;\">\n",
       "      <th></th>\n",
       "      <th>A1</th>\n",
       "      <th>A2</th>\n",
       "      <th>A3</th>\n",
       "    </tr>\n",
       "  </thead>\n",
       "  <tbody>\n",
       "    <tr>\n",
       "      <th>0</th>\n",
       "      <td>2.4</td>\n",
       "      <td>5.8</td>\n",
       "      <td>6.1</td>\n",
       "    </tr>\n",
       "    <tr>\n",
       "      <th>1</th>\n",
       "      <td>2.7</td>\n",
       "      <td>5.2</td>\n",
       "      <td>5.7</td>\n",
       "    </tr>\n",
       "    <tr>\n",
       "      <th>2</th>\n",
       "      <td>2.3</td>\n",
       "      <td>5.5</td>\n",
       "      <td>5.9</td>\n",
       "    </tr>\n",
       "    <tr>\n",
       "      <th>3</th>\n",
       "      <td>2.5</td>\n",
       "      <td>5.3</td>\n",
       "      <td>6.2</td>\n",
       "    </tr>\n",
       "    <tr>\n",
       "      <th>4</th>\n",
       "      <td>4.6</td>\n",
       "      <td>8.9</td>\n",
       "      <td>9.9</td>\n",
       "    </tr>\n",
       "    <tr>\n",
       "      <th>5</th>\n",
       "      <td>4.2</td>\n",
       "      <td>9.1</td>\n",
       "      <td>10.5</td>\n",
       "    </tr>\n",
       "    <tr>\n",
       "      <th>6</th>\n",
       "      <td>4.9</td>\n",
       "      <td>8.7</td>\n",
       "      <td>10.6</td>\n",
       "    </tr>\n",
       "    <tr>\n",
       "      <th>7</th>\n",
       "      <td>4.7</td>\n",
       "      <td>9.0</td>\n",
       "      <td>10.1</td>\n",
       "    </tr>\n",
       "    <tr>\n",
       "      <th>8</th>\n",
       "      <td>4.8</td>\n",
       "      <td>9.1</td>\n",
       "      <td>13.5</td>\n",
       "    </tr>\n",
       "    <tr>\n",
       "      <th>9</th>\n",
       "      <td>4.5</td>\n",
       "      <td>9.3</td>\n",
       "      <td>13.0</td>\n",
       "    </tr>\n",
       "    <tr>\n",
       "      <th>10</th>\n",
       "      <td>4.4</td>\n",
       "      <td>8.7</td>\n",
       "      <td>13.3</td>\n",
       "    </tr>\n",
       "    <tr>\n",
       "      <th>11</th>\n",
       "      <td>4.6</td>\n",
       "      <td>9.4</td>\n",
       "      <td>13.2</td>\n",
       "    </tr>\n",
       "  </tbody>\n",
       "</table>\n",
       "</div>"
      ],
      "text/plain": [
       "     A1   A2    A3\n",
       "0   2.4  5.8   6.1\n",
       "1   2.7  5.2   5.7\n",
       "2   2.3  5.5   5.9\n",
       "3   2.5  5.3   6.2\n",
       "4   4.6  8.9   9.9\n",
       "5   4.2  9.1  10.5\n",
       "6   4.9  8.7  10.6\n",
       "7   4.7  9.0  10.1\n",
       "8   4.8  9.1  13.5\n",
       "9   4.5  9.3  13.0\n",
       "10  4.4  8.7  13.3\n",
       "11  4.6  9.4  13.2"
      ]
     },
     "execution_count": 57,
     "metadata": {},
     "output_type": "execute_result"
    }
   ],
   "source": [
    "A= pd.concat ([A1['A1'], A2['A2'], A3['A3']], axis=1, sort=False)\n",
    "A"
   ]
  },
  {
   "cell_type": "code",
   "execution_count": 58,
   "metadata": {},
   "outputs": [
    {
     "data": {
      "text/html": [
       "<div>\n",
       "<style scoped>\n",
       "    .dataframe tbody tr th:only-of-type {\n",
       "        vertical-align: middle;\n",
       "    }\n",
       "\n",
       "    .dataframe tbody tr th {\n",
       "        vertical-align: top;\n",
       "    }\n",
       "\n",
       "    .dataframe thead th {\n",
       "        text-align: right;\n",
       "    }\n",
       "</style>\n",
       "<table border=\"1\" class=\"dataframe\">\n",
       "  <thead>\n",
       "    <tr style=\"text-align: right;\">\n",
       "      <th></th>\n",
       "      <th>A1</th>\n",
       "      <th>A2</th>\n",
       "      <th>A3</th>\n",
       "    </tr>\n",
       "  </thead>\n",
       "  <tbody>\n",
       "    <tr>\n",
       "      <th>count</th>\n",
       "      <td>12.000000</td>\n",
       "      <td>12.000000</td>\n",
       "      <td>12.000000</td>\n",
       "    </tr>\n",
       "    <tr>\n",
       "      <th>mean</th>\n",
       "      <td>3.883333</td>\n",
       "      <td>7.833333</td>\n",
       "      <td>9.833333</td>\n",
       "    </tr>\n",
       "    <tr>\n",
       "      <th>std</th>\n",
       "      <td>1.059016</td>\n",
       "      <td>1.777298</td>\n",
       "      <td>3.127977</td>\n",
       "    </tr>\n",
       "    <tr>\n",
       "      <th>min</th>\n",
       "      <td>2.300000</td>\n",
       "      <td>5.200000</td>\n",
       "      <td>5.700000</td>\n",
       "    </tr>\n",
       "    <tr>\n",
       "      <th>25%</th>\n",
       "      <td>2.650000</td>\n",
       "      <td>5.725000</td>\n",
       "      <td>6.175000</td>\n",
       "    </tr>\n",
       "    <tr>\n",
       "      <th>50%</th>\n",
       "      <td>4.450000</td>\n",
       "      <td>8.800000</td>\n",
       "      <td>10.300000</td>\n",
       "    </tr>\n",
       "    <tr>\n",
       "      <th>75%</th>\n",
       "      <td>4.625000</td>\n",
       "      <td>9.100000</td>\n",
       "      <td>13.050000</td>\n",
       "    </tr>\n",
       "    <tr>\n",
       "      <th>max</th>\n",
       "      <td>4.900000</td>\n",
       "      <td>9.400000</td>\n",
       "      <td>13.500000</td>\n",
       "    </tr>\n",
       "  </tbody>\n",
       "</table>\n",
       "</div>"
      ],
      "text/plain": [
       "              A1         A2         A3\n",
       "count  12.000000  12.000000  12.000000\n",
       "mean    3.883333   7.833333   9.833333\n",
       "std     1.059016   1.777298   3.127977\n",
       "min     2.300000   5.200000   5.700000\n",
       "25%     2.650000   5.725000   6.175000\n",
       "50%     4.450000   8.800000  10.300000\n",
       "75%     4.625000   9.100000  13.050000\n",
       "max     4.900000   9.400000  13.500000"
      ]
     },
     "execution_count": 58,
     "metadata": {},
     "output_type": "execute_result"
    }
   ],
   "source": [
    "A.describe()"
   ]
  },
  {
   "cell_type": "markdown",
   "metadata": {},
   "source": [
    "From above statistics , it appears that ingredient A level 3 has the highest mean relief, followed by level 2 and then level 1"
   ]
  },
  {
   "cell_type": "code",
   "execution_count": 60,
   "metadata": {},
   "outputs": [
    {
     "data": {
      "text/plain": [
       "0     5.8\n",
       "1     5.2\n",
       "2     5.5\n",
       "3     5.3\n",
       "4     8.9\n",
       "5     9.1\n",
       "6     8.7\n",
       "7     9.0\n",
       "8     9.1\n",
       "9     9.3\n",
       "10    8.7\n",
       "11    9.4\n",
       "Name: A2, dtype: float64"
      ]
     },
     "execution_count": 60,
     "metadata": {},
     "output_type": "execute_result"
    }
   ],
   "source": [
    "A2.A2"
   ]
  },
  {
   "cell_type": "code",
   "execution_count": 62,
   "metadata": {},
   "outputs": [
    {
     "data": {
      "image/png": "[encoded data removed]",
      "text/plain": [
       "<Figure size 720x1080 with 2 Axes>"
      ]
     },
     "metadata": {
      "needs_background": "light"
     },
     "output_type": "display_data"
    }
   ],
   "source": [
    "plt.figure(figsize=(10,15))\n",
    "\n",
    "plt.subplot(2,1,1)\n",
    "A1.A1.plot(kind='kde',label='1')\n",
    "A2.A2.plot(kind='kde',label='2')\n",
    "A3.A3.plot(kind='kde',label='3')\n",
    "plt.legend()\n",
    "plt.xlabel(\"Levels of Ingredient A\")\n",
    "plt.ylabel(\"Hours of Relief\")\n",
    "plt.grid()\n",
    "plt.subplot(2,1,2)\n",
    "sns.boxplot(x=\"A\", y=\"Relief\", data=df1)\n",
    "plt.xlabel(\"Levels of Ingredient A\")\n",
    "plt.ylabel(\"Hours of Relief\")\n",
    "plt.show()"
   ]
  },
  {
   "cell_type": "markdown",
   "metadata": {},
   "source": [
    "From above graphs we can say that :-\n",
    "- Data for level 1 & 2 looks highly skewed towards left side and doesnt looks Normal. \n",
    "- Hours of Relief appears to be more in level 3 as compared to 2 and 1"
   ]
  },
  {
   "cell_type": "markdown",
   "metadata": {},
   "source": [
    "## Test for Normality -  Shapiro- Wilk Test\n",
    "\n"
   ]
  },
  {
   "cell_type": "markdown",
   "metadata": {},
   "source": [
    "### Null Hypothesis : The given observation is normally distributed\n",
    "### Alternative Hypothesis : The given observation is not normally distributed\n",
    "\n"
   ]
  },
  {
   "cell_type": "code",
   "execution_count": 64,
   "metadata": {},
   "outputs": [
    {
     "name": "stdout",
     "output_type": "stream",
     "text": [
      "0.004211828112602234 0.001616060733795166 0.03468279168009758\n"
     ]
    }
   ],
   "source": [
    "## Post filtering we apply the shapiro- Wilk Test\n",
    "t1,p1 = stats.shapiro(A1.A1)\n",
    "t2,p2 = stats.shapiro(A2.A2)\n",
    "t3,p3 = stats.shapiro(A3.A3)\n",
    "print(p1,p2,p3)"
   ]
  },
  {
   "cell_type": "markdown",
   "metadata": {},
   "source": [
    "### p-value is lower than alpha =0.05, that means,  we go ahead with alternative hypothesis as the observations are not normally distributed"
   ]
  },
  {
   "cell_type": "markdown",
   "metadata": {},
   "source": [
    "## Levene's Test\n",
    "#### Computes homogeneity of variance across groups.\n",
    "\n",
    "### Null Hypothesis: Ho -The variances in the given dataset is the same\n",
    "### Alternative Hypothesis: Ha - The variances in the given dataset is different \n",
    "\n"
   ]
  },
  {
   "cell_type": "code",
   "execution_count": 66,
   "metadata": {},
   "outputs": [
    {
     "name": "stdout",
     "output_type": "stream",
     "text": [
      "LeveneResult(statistic=4.511350350740447, pvalue=0.018535088623493387)\n"
     ]
    }
   ],
   "source": [
    "LT = stats.levene(A1.A1, A2.A2, A3.A3)\n",
    "print(LT)"
   ]
  },
  {
   "cell_type": "markdown",
   "metadata": {},
   "source": [
    "#### Since p-value is less than 0.05, we shall proceed with Alternative hypothesis that the variances are different"
   ]
  },
  {
   "cell_type": "markdown",
   "metadata": {},
   "source": [
    "## Assumptions of ANOVA?\n",
    "\n",
    "#### 1. Independent Sample -  Sample should be selected randomly( Equally likely events).\n",
    "#### There should not be any pattern in the selection of sample\n",
    "#### 2. Normal Distribution - Distribution of each group should be normal\n",
    "#### 3. Homogenous Group -  Variance between the group should be the same."
   ]
  },
  {
   "cell_type": "markdown",
   "metadata": {},
   "source": [
    "## Point 2 & 3 of ANOVA's assumption are not true in our case but as per requirement it is told to us that we have to assume the assumptions of ANOVA as true, we are proceeding with the one way Anova test statistics for comparison"
   ]
  },
  {
   "cell_type": "markdown",
   "metadata": {},
   "source": [
    "# One Way Anova\n",
    "\n"
   ]
  },
  {
   "cell_type": "code",
   "execution_count": 67,
   "metadata": {},
   "outputs": [
    {
     "name": "stdout",
     "output_type": "stream",
     "text": [
      "            df  sum_sq     mean_sq          F        PR(>F)\n",
      "C(A)       2.0  220.02  110.010000  23.465387  4.578242e-07\n",
      "Residual  33.0  154.71    4.688182        NaN           NaN\n"
     ]
    }
   ],
   "source": [
    "formula = 'Relief ~ C(A)'\n",
    "model = ols(formula, df1).fit()\n",
    "aov_table = anova_lm(model)\n",
    "print(aov_table)\n",
    "\n"
   ]
  },
  {
   "cell_type": "markdown",
   "metadata": {},
   "source": [
    "# Conclusion"
   ]
  },
  {
   "cell_type": "markdown",
   "metadata": {},
   "source": [
    "**Since the p value is less than the significance level (0.05), we reject the null hupothesis and conclude that with 95% confidence that the mean relief in hours is different for at-least one level (1,2 and 3) of active ingredient A"
   ]
  },
  {
   "cell_type": "markdown",
   "metadata": {},
   "source": [
    "## Tukey Honest Significant Difference"
   ]
  },
  {
   "cell_type": "code",
   "execution_count": 68,
   "metadata": {},
   "outputs": [
    {
     "name": "stdout",
     "output_type": "stream",
     "text": [
      "Multiple Comparison of Means - Tukey HSD, FWER=0.05\n",
      "===================================================\n",
      "group1 group2 meandiff p-adj   lower  upper  reject\n",
      "---------------------------------------------------\n",
      "     1      2     3.95  0.001  1.7814 6.1186   True\n",
      "     1      3     5.95  0.001  3.7814 8.1186   True\n",
      "     2      3      2.0 0.0755 -0.1686 4.1686  False\n",
      "---------------------------------------------------\n"
     ]
    }
   ],
   "source": [
    "compare = MultiComparison(df1['Relief'], df1['A'])\n",
    "result = compare.tukeyhsd()\n",
    "print(result)"
   ]
  },
  {
   "cell_type": "markdown",
   "metadata": {},
   "source": [
    "From Tukey HSD test, we can say statstically with 95% confidence that mean relief is different for level 1 & 2 and level 1 & 3 of inredient A. However mean relief is same for ingredient Level 2 and 3"
   ]
  },
  {
   "cell_type": "code",
   "execution_count": 69,
   "metadata": {},
   "outputs": [
    {
     "data": {
      "image/png": "[encoded data removed]",
      "text/plain": [
       "<Figure size 432x288 with 1 Axes>"
      ]
     },
     "metadata": {
      "needs_background": "light"
     },
     "output_type": "display_data"
    }
   ],
   "source": [
    "sns.pointplot(x ='A', y='Relief', data =df1, ci=None);"
   ]
  },
  {
   "cell_type": "markdown",
   "metadata": {},
   "source": [
    "# 1.3) Perform one-way ANOVA for variable ‘B’ with respect to the variable ‘Relief’. State whether the Null Hypothesis is accepted or rejected based on the ANOVA results."
   ]
  },
  {
   "cell_type": "markdown",
   "metadata": {},
   "source": [
    "# Plotting histogram and boxplot for different level of ingredient B"
   ]
  },
  {
   "cell_type": "code",
   "execution_count": 70,
   "metadata": {},
   "outputs": [],
   "source": [
    "#creating different dataframe for different levels of B\n",
    "B1 = df1[df1.B == 1]\n",
    "B2 = df1[df1.B == 2]\n",
    "B3 = df1[df1.B == 3]\n"
   ]
  },
  {
   "cell_type": "code",
   "execution_count": 71,
   "metadata": {},
   "outputs": [],
   "source": [
    "B1=B1.reset_index()\n",
    "B1.rename(columns ={'Relief':'B1'}, inplace =True)\n",
    "B2=B2.reset_index()\n",
    "B2.rename(columns ={'Relief':'B2'}, inplace =True)\n",
    "B3=B3.reset_index()\n",
    "B3.rename(columns ={'Relief':'B3'}, inplace =True)\n"
   ]
  },
  {
   "cell_type": "code",
   "execution_count": 72,
   "metadata": {},
   "outputs": [
    {
     "data": {
      "text/html": [
       "<div>\n",
       "<style scoped>\n",
       "    .dataframe tbody tr th:only-of-type {\n",
       "        vertical-align: middle;\n",
       "    }\n",
       "\n",
       "    .dataframe tbody tr th {\n",
       "        vertical-align: top;\n",
       "    }\n",
       "\n",
       "    .dataframe thead th {\n",
       "        text-align: right;\n",
       "    }\n",
       "</style>\n",
       "<table border=\"1\" class=\"dataframe\">\n",
       "  <thead>\n",
       "    <tr style=\"text-align: right;\">\n",
       "      <th></th>\n",
       "      <th>B1</th>\n",
       "      <th>B2</th>\n",
       "      <th>B3</th>\n",
       "    </tr>\n",
       "  </thead>\n",
       "  <tbody>\n",
       "    <tr>\n",
       "      <th>0</th>\n",
       "      <td>2.4</td>\n",
       "      <td>4.6</td>\n",
       "      <td>4.8</td>\n",
       "    </tr>\n",
       "    <tr>\n",
       "      <th>1</th>\n",
       "      <td>2.7</td>\n",
       "      <td>4.2</td>\n",
       "      <td>4.5</td>\n",
       "    </tr>\n",
       "    <tr>\n",
       "      <th>2</th>\n",
       "      <td>2.3</td>\n",
       "      <td>4.9</td>\n",
       "      <td>4.4</td>\n",
       "    </tr>\n",
       "    <tr>\n",
       "      <th>3</th>\n",
       "      <td>2.5</td>\n",
       "      <td>4.7</td>\n",
       "      <td>4.6</td>\n",
       "    </tr>\n",
       "    <tr>\n",
       "      <th>4</th>\n",
       "      <td>5.8</td>\n",
       "      <td>8.9</td>\n",
       "      <td>9.1</td>\n",
       "    </tr>\n",
       "    <tr>\n",
       "      <th>5</th>\n",
       "      <td>5.2</td>\n",
       "      <td>9.1</td>\n",
       "      <td>9.3</td>\n",
       "    </tr>\n",
       "    <tr>\n",
       "      <th>6</th>\n",
       "      <td>5.5</td>\n",
       "      <td>8.7</td>\n",
       "      <td>8.7</td>\n",
       "    </tr>\n",
       "    <tr>\n",
       "      <th>7</th>\n",
       "      <td>5.3</td>\n",
       "      <td>9.0</td>\n",
       "      <td>9.4</td>\n",
       "    </tr>\n",
       "    <tr>\n",
       "      <th>8</th>\n",
       "      <td>6.1</td>\n",
       "      <td>9.9</td>\n",
       "      <td>13.5</td>\n",
       "    </tr>\n",
       "    <tr>\n",
       "      <th>9</th>\n",
       "      <td>5.7</td>\n",
       "      <td>10.5</td>\n",
       "      <td>13.0</td>\n",
       "    </tr>\n",
       "    <tr>\n",
       "      <th>10</th>\n",
       "      <td>5.9</td>\n",
       "      <td>10.6</td>\n",
       "      <td>13.3</td>\n",
       "    </tr>\n",
       "    <tr>\n",
       "      <th>11</th>\n",
       "      <td>6.2</td>\n",
       "      <td>10.1</td>\n",
       "      <td>13.2</td>\n",
       "    </tr>\n",
       "  </tbody>\n",
       "</table>\n",
       "</div>"
      ],
      "text/plain": [
       "     B1    B2    B3\n",
       "0   2.4   4.6   4.8\n",
       "1   2.7   4.2   4.5\n",
       "2   2.3   4.9   4.4\n",
       "3   2.5   4.7   4.6\n",
       "4   5.8   8.9   9.1\n",
       "5   5.2   9.1   9.3\n",
       "6   5.5   8.7   8.7\n",
       "7   5.3   9.0   9.4\n",
       "8   6.1   9.9  13.5\n",
       "9   5.7  10.5  13.0\n",
       "10  5.9  10.6  13.3\n",
       "11  6.2  10.1  13.2"
      ]
     },
     "execution_count": 72,
     "metadata": {},
     "output_type": "execute_result"
    }
   ],
   "source": [
    "B= pd.concat ([B1['B1'], B2['B2'], B3['B3']], axis=1, sort=False)\n",
    "B"
   ]
  },
  {
   "cell_type": "code",
   "execution_count": 73,
   "metadata": {},
   "outputs": [
    {
     "data": {
      "text/html": [
       "<div>\n",
       "<style scoped>\n",
       "    .dataframe tbody tr th:only-of-type {\n",
       "        vertical-align: middle;\n",
       "    }\n",
       "\n",
       "    .dataframe tbody tr th {\n",
       "        vertical-align: top;\n",
       "    }\n",
       "\n",
       "    .dataframe thead th {\n",
       "        text-align: right;\n",
       "    }\n",
       "</style>\n",
       "<table border=\"1\" class=\"dataframe\">\n",
       "  <thead>\n",
       "    <tr style=\"text-align: right;\">\n",
       "      <th></th>\n",
       "      <th>B1</th>\n",
       "      <th>B2</th>\n",
       "      <th>B3</th>\n",
       "    </tr>\n",
       "  </thead>\n",
       "  <tbody>\n",
       "    <tr>\n",
       "      <th>count</th>\n",
       "      <td>12.000000</td>\n",
       "      <td>12.000000</td>\n",
       "      <td>12.000000</td>\n",
       "    </tr>\n",
       "    <tr>\n",
       "      <th>mean</th>\n",
       "      <td>4.633333</td>\n",
       "      <td>7.933333</td>\n",
       "      <td>8.983333</td>\n",
       "    </tr>\n",
       "    <tr>\n",
       "      <th>std</th>\n",
       "      <td>1.622195</td>\n",
       "      <td>2.540341</td>\n",
       "      <td>3.706710</td>\n",
       "    </tr>\n",
       "    <tr>\n",
       "      <th>min</th>\n",
       "      <td>2.300000</td>\n",
       "      <td>4.200000</td>\n",
       "      <td>4.400000</td>\n",
       "    </tr>\n",
       "    <tr>\n",
       "      <th>25%</th>\n",
       "      <td>2.650000</td>\n",
       "      <td>4.850000</td>\n",
       "      <td>4.750000</td>\n",
       "    </tr>\n",
       "    <tr>\n",
       "      <th>50%</th>\n",
       "      <td>5.400000</td>\n",
       "      <td>8.950000</td>\n",
       "      <td>9.200000</td>\n",
       "    </tr>\n",
       "    <tr>\n",
       "      <th>75%</th>\n",
       "      <td>5.825000</td>\n",
       "      <td>9.950000</td>\n",
       "      <td>13.050000</td>\n",
       "    </tr>\n",
       "    <tr>\n",
       "      <th>max</th>\n",
       "      <td>6.200000</td>\n",
       "      <td>10.600000</td>\n",
       "      <td>13.500000</td>\n",
       "    </tr>\n",
       "  </tbody>\n",
       "</table>\n",
       "</div>"
      ],
      "text/plain": [
       "              B1         B2         B3\n",
       "count  12.000000  12.000000  12.000000\n",
       "mean    4.633333   7.933333   8.983333\n",
       "std     1.622195   2.540341   3.706710\n",
       "min     2.300000   4.200000   4.400000\n",
       "25%     2.650000   4.850000   4.750000\n",
       "50%     5.400000   8.950000   9.200000\n",
       "75%     5.825000   9.950000  13.050000\n",
       "max     6.200000  10.600000  13.500000"
      ]
     },
     "execution_count": 73,
     "metadata": {},
     "output_type": "execute_result"
    }
   ],
   "source": [
    "B.describe()"
   ]
  },
  {
   "cell_type": "markdown",
   "metadata": {},
   "source": [
    "From above statistics , it appears that ingredient B level 3 has the highest mean relief, followed by level 2 and then level 1"
   ]
  },
  {
   "cell_type": "code",
   "execution_count": 75,
   "metadata": {},
   "outputs": [
    {
     "data": {
      "image/png": "[encoded data removed]",
      "text/plain": [
       "<Figure size 720x1080 with 2 Axes>"
      ]
     },
     "metadata": {
      "needs_background": "light"
     },
     "output_type": "display_data"
    }
   ],
   "source": [
    "plt.figure(figsize=(10,15))\n",
    "\n",
    "plt.subplot(2,1,1)\n",
    "B1.B1.plot(kind='kde',label='1')\n",
    "B2.B2.plot(kind='kde',label='2')\n",
    "B3.B3.plot(kind='kde',label='3')\n",
    "plt.legend()\n",
    "plt.xlabel(\"Levels of Ingredient B\")\n",
    "plt.ylabel(\"Hours of Relief\")\n",
    "plt.grid()\n",
    "plt.subplot(2,1,2)\n",
    "sns.boxplot(x=\"B\", y=\"Relief\", data=df1)\n",
    "plt.xlabel(\"Levels of Ingredient B\")\n",
    "plt.ylabel(\"Hours of Relief\")\n",
    "plt.show()"
   ]
  },
  {
   "cell_type": "markdown",
   "metadata": {},
   "source": [
    "From above graphs we can say that :-\n",
    "- Data for level 1 & 2 looks highly skewed towards left side and doesnt looks Normal. \n",
    "- Hours of Relief appears to be more in level 3 as compared to 2 and 1"
   ]
  },
  {
   "cell_type": "markdown",
   "metadata": {},
   "source": [
    "## Test for Normality -  Shapiro- Wilk Test\n",
    "\n"
   ]
  },
  {
   "cell_type": "markdown",
   "metadata": {},
   "source": [
    "### Null Hypothesis : The given observation is normally distributed\n",
    "### Alternative Hypothesis : The given observation is not normally distributed\n",
    "\n"
   ]
  },
  {
   "cell_type": "code",
   "execution_count": 76,
   "metadata": {},
   "outputs": [
    {
     "name": "stdout",
     "output_type": "stream",
     "text": [
      "0.003910908009856939 0.01112875435501337 0.031581711024045944\n"
     ]
    }
   ],
   "source": [
    "## Post filtering we apply the shapiro- Wilk Test\n",
    "t1,p1 = stats.shapiro(B1.B1)\n",
    "t2,p2 = stats.shapiro(B2.B2)\n",
    "t3,p3 = stats.shapiro(B3.B3)\n",
    "print(p1,p2,p3)"
   ]
  },
  {
   "cell_type": "markdown",
   "metadata": {},
   "source": [
    "### p-value is lower than alpha =0.05, that means,  we go ahead with alternative hypothesis as the observations are not normally distributed"
   ]
  },
  {
   "cell_type": "markdown",
   "metadata": {},
   "source": [
    "## Levene's Test\n",
    "#### Computes homogeneity of variance across groups.\n",
    "\n",
    "### Null Hypothesis: Ho -The variances in the given dataset is the same\n",
    "### Alternative Hypothesis: Ha - The variances in the given dataset is different \n",
    "\n"
   ]
  },
  {
   "cell_type": "code",
   "execution_count": 77,
   "metadata": {},
   "outputs": [
    {
     "name": "stdout",
     "output_type": "stream",
     "text": [
      "LeveneResult(statistic=2.941356517208818, pvalue=0.06675699295483081)\n"
     ]
    }
   ],
   "source": [
    "LT = stats.levene(B1.B1, B2.B2, B3.B3)\n",
    "print(LT)"
   ]
  },
  {
   "cell_type": "markdown",
   "metadata": {},
   "source": [
    "#### Since p-value is less than 0.05, we shall proceed with Alternative hypothesis that the variances are different"
   ]
  },
  {
   "cell_type": "markdown",
   "metadata": {},
   "source": [
    "## Assumptions of ANOVA?\n",
    "\n",
    "#### 1. Independent Sample -  Sample should be selected randomly( Equally likely events).\n",
    "#### There should not be any pattern in the selection of sample\n",
    "#### 2. Normal Distribution - Distribution of each group should be normal\n",
    "#### 3. Homogenous Group -  Variance between the group should be the same."
   ]
  },
  {
   "cell_type": "markdown",
   "metadata": {},
   "source": [
    "## Point 2 & 3 of ANOVA's assumption are not true in our case but as per requirement it is told to us that we have to assume the assumptions of ANOVA as true, we are proceeding with the one way Anova test statistics for comparison"
   ]
  },
  {
   "cell_type": "markdown",
   "metadata": {},
   "source": [
    "# One Way Anova\n",
    "\n"
   ]
  },
  {
   "cell_type": "code",
   "execution_count": 78,
   "metadata": {},
   "outputs": [
    {
     "name": "stdout",
     "output_type": "stream",
     "text": [
      "            df  sum_sq    mean_sq         F   PR(>F)\n",
      "C(B)       2.0  123.66  61.830000  8.126777  0.00135\n",
      "Residual  33.0  251.07   7.608182       NaN      NaN\n"
     ]
    }
   ],
   "source": [
    "formula = 'Relief ~ C(B)'\n",
    "model = ols(formula, df1).fit()\n",
    "aov_table = anova_lm(model)\n",
    "print(aov_table)\n",
    "\n"
   ]
  },
  {
   "cell_type": "markdown",
   "metadata": {},
   "source": [
    "# Conclusion"
   ]
  },
  {
   "cell_type": "markdown",
   "metadata": {},
   "source": [
    "**Since the p value is less than the significance level (0.05), we reject the null hupothesis and conclude that with 95% confidence that the mean relief in hours is different for at-least one level (1,2 and 3) of active ingredient B**"
   ]
  },
  {
   "cell_type": "markdown",
   "metadata": {},
   "source": [
    "## Tukey Honest Significant Difference"
   ]
  },
  {
   "cell_type": "code",
   "execution_count": 79,
   "metadata": {},
   "outputs": [
    {
     "name": "stdout",
     "output_type": "stream",
     "text": [
      "Multiple Comparison of Means - Tukey HSD, FWER=0.05\n",
      "===================================================\n",
      "group1 group2 meandiff p-adj   lower  upper  reject\n",
      "---------------------------------------------------\n",
      "     1      2      3.3 0.0164  0.5374 6.0626   True\n",
      "     1      3     4.35 0.0014  1.5874 7.1126   True\n",
      "     2      3     1.05 0.6164 -1.7126 3.8126  False\n",
      "---------------------------------------------------\n"
     ]
    }
   ],
   "source": [
    "compare = MultiComparison(df1['Relief'], df1['B'])\n",
    "result = compare.tukeyhsd()\n",
    "print(result)"
   ]
  },
  {
   "cell_type": "markdown",
   "metadata": {},
   "source": [
    "From Tukey HSD test, we can say statstically with 95% confidence that mean relief is different for level 1 & 2 and level 1 & 3 of inredient B. However mean relief is same for ingredient B Level 2 and 3"
   ]
  },
  {
   "cell_type": "code",
   "execution_count": 80,
   "metadata": {},
   "outputs": [
    {
     "data": {
      "image/png": "[encoded data removed]",
      "text/plain": [
       "<Figure size 432x288 with 1 Axes>"
      ]
     },
     "metadata": {
      "needs_background": "light"
     },
     "output_type": "display_data"
    }
   ],
   "source": [
    "sns.pointplot(x ='B', y='Relief', data =df1, ci=None);"
   ]
  },
  {
   "cell_type": "markdown",
   "metadata": {},
   "source": [
    "# 1.4) Analyse the effects of one variable on another with the help of an interaction plot. What is the interaction between the two treatments?\n",
    "[hint: use the ‘pointplot’ function from the ‘seaborn’ function]"
   ]
  },
  {
   "cell_type": "code",
   "execution_count": 81,
   "metadata": {},
   "outputs": [
    {
     "data": {
      "image/png": "[encoded data removed]",
      "text/plain": [
       "<Figure size 720x432 with 1 Axes>"
      ]
     },
     "metadata": {
      "needs_background": "light"
     },
     "output_type": "display_data"
    }
   ],
   "source": [
    "# plotting pointplot\n",
    "plt.figure(figsize=(10,6))\n",
    "sns.pointplot(x = 'A', y = 'Relief', hue='B',data=df1,ci=False)\n",
    "plt.grid()\n",
    "plt.show()"
   ]
  },
  {
   "cell_type": "markdown",
   "metadata": {},
   "source": [
    "From point plot we can see that :- \n",
    "    - Mean relief in hours increases as the level of active ingredient A changes from 1 to 2 to 3. So it appears that \n",
    "      percentage level of Ingredient A increases with its Level\n",
    "    - Mean relief in hours increases as the level of active ingredient B changes from 1 to 2 to 3. So it appears that \n",
    "      percentage level of Ingredient B increases with its Level\n",
    "    - There is interaction between ingredient A & B\n",
    "    - Mean Relief in hours is approximately the same for level 2 & 3 of ingredient B and level 1 & 2 of ingredient A\n",
    "    - Rise in relief is significantly high if level 3 is used for both ingredient B and ingredient A\n",
    "    - It appears that for ingredient B level 3 concentration level should be used for level 3 concentration of ingredient A, \n",
    "      otherwise we would not get substantial benefit in relief\n"
   ]
  },
  {
   "cell_type": "markdown",
   "metadata": {},
   "source": [
    "# 1.5) Perform a two-way ANOVA based on the different ingredients (variable ‘A’ & ‘B’ along with their interaction 'A*B') with the variable 'Relief' and state your results."
   ]
  },
  {
   "cell_type": "markdown",
   "metadata": {},
   "source": [
    "## Test for Normality -  Shapiro- Wilk Test\n",
    "\n"
   ]
  },
  {
   "cell_type": "markdown",
   "metadata": {},
   "source": [
    "### Null Hypothesis : The given observation is normally distributed\n",
    "### Alternative Hypothesis : The given observation is not normally distributed\n",
    "\n"
   ]
  },
  {
   "cell_type": "code",
   "execution_count": 82,
   "metadata": {},
   "outputs": [
    {
     "name": "stdout",
     "output_type": "stream",
     "text": [
      "0.02178293839097023\n"
     ]
    }
   ],
   "source": [
    "## Post filtering we apply the shapiro- Wilk Test\n",
    "t1,p1 = stats.shapiro(df1.Relief)\n",
    "print(p1)"
   ]
  },
  {
   "cell_type": "markdown",
   "metadata": {},
   "source": [
    "### p-value is lower than alpha =0.05, that means,  we go ahead with alternative hypothesis as the observations are not normally distributed"
   ]
  },
  {
   "cell_type": "markdown",
   "metadata": {},
   "source": [
    "### For 2 way ANOVA's assumption is there that dependent variable has to be approximately normal which is not true in our case. So more samples should be taken but as per requirement it is told to us that we have to assume the assumptions of ANOVA as true, we are proceeding with the two way Anova test statistics for comparison"
   ]
  },
  {
   "cell_type": "code",
   "execution_count": 83,
   "metadata": {},
   "outputs": [
    {
     "name": "stdout",
     "output_type": "stream",
     "text": [
      "             df   sum_sq     mean_sq            F        PR(>F)\n",
      "C(A)        2.0  220.020  110.010000  1827.858462  1.514043e-29\n",
      "C(B)        2.0  123.660   61.830000  1027.329231  3.348751e-26\n",
      "C(A):C(B)   4.0   29.425    7.356250   122.226923  6.972083e-17\n",
      "Residual   27.0    1.625    0.060185          NaN           NaN\n"
     ]
    }
   ],
   "source": [
    "formula = 'Relief ~ C(A) + C(B) + C(A):C(B)'\n",
    "model = ols(formula, df1).fit()\n",
    "aov_table = anova_lm(model,type=2)\n",
    "print(aov_table)"
   ]
  },
  {
   "cell_type": "markdown",
   "metadata": {},
   "source": [
    "### From the 2 way Anova test results we can see that p value is less than the significane level 0.05 for all the three factors (ingredient A, ingredient B, interaction of ingredient A with B). \n",
    "\n",
    "### So statistically with 95% confidence we can say that Mean Relief is affected by ingredient A, Ingredient B and interaction of ingredient A & B. \n",
    "\n",
    "### p value is least for A, so the most signifcant factor affecting Relief is ingredient A followed by ingredient B and then the interaction of both the ingredients"
   ]
  },
  {
   "cell_type": "markdown",
   "metadata": {},
   "source": [
    "# 1.6) Mention the business implications of performing ANOVA for this particular case study."
   ]
  },
  {
   "cell_type": "markdown",
   "metadata": {},
   "source": [
    "From the Anova test results (one way and two way) and the visual representation graphs like histograms, box plots, point plot we can see following observations :-\n",
    "\n",
    "- Independent Variable 'A' affect on Dependent variable Hours of 'Relief'\n",
    "    - Ingredient A has 3 levels (1, 2 and 3). From summary of the sample data it can be seen that A ingredient level 3 has the highest mean relief of 9.8 as compared to level 2 (7.8) and level 1 (3.88)    \n",
    "    - On comparing the mean relief of sample data across different levels of ingredient A  via 1 way Anova test, we found with 95% confidence level that mean relief for all levels is not equal i.e. for atleast one pair of level 1, 2 and 3 mean relief is different.        \n",
    "    - Then on doing Tukey HSD test we have found that mean relief for 2 pair of ingredient A levels are not equal. i.e. Mean relief is same for level 2 & level 3 of ingredient A but its different for (level 1 & level 2) and (level 1 & level 3) of ingredient A.        \n",
    "    - Further we have added the other independent variables like ingredient B and interaction of ingredient A & B in 2 way Anova Test. Then we have found that ingredient A is the most important attribute in deciding the value for dependent variable Relief.\n",
    "    \n",
    "    \n",
    "    \n",
    "- Independent Variable 'B' affect on Dependent variable Hours of 'Relief'\n",
    "\n",
    "    - Ingredient B has 3 levels (1, 2 and 3). From summary of the sample data it can be seen that A ingredient level 3 has the highest mean relief of 9.98 as compared to level 2 (7.9) and level 1 (4.6)    \n",
    "    - On comparing the mean relief of sample data across different levels of ingredient B  via 1 way Anova test, we found with 95% confidence level that mean relief for all levels is not equal i.e. for atleast one pair of level 1, 2 and 3 mean relief is different.    \n",
    "    - Then on doing Tukey HSD test we have found that mean relief for 2 pair of ingredient A levels are not equal. i.e. Mean relief is same for level 2 & level 3 of ingredient B but its different for (level 1 & level 2) and (level 1 & level 3) of ingredient B.\n",
    "    - Further we have added the other independent variables like ingredient A and interaction of ingredient A & B in 2 way Anova Test. Then we have found that ingredient B is the second most important in deciding the value for dependent variable Relief.\n",
    "\n",
    "- Independent Variable 'A' and 'B' interaction affect on Dependent variable Hours of 'Relief'\n",
    "    - In 2 way Anova test and point plot , it can be seen that interaction of ingredient A and ingredient B is also important in affecting the value of dependent variable Relief\n",
    "    - Mean Relief in hours is approximately the same for level 2 & 3 of ingredient B and level 1 & 2 of ingredient A\n",
    "    - Rise in relief is significantly high if level 3 is used for both ingredient B and ingredient A\n",
    "    - It appears that for ingredient B level 3 concentration level should be used for level 3 concentration of ingredient A, \n",
    "      otherwise we would not get substantial benefit in relief    \n",
    "\n",
    "Assumptions\n",
    "    - As increasing the level from 1 to 2 and finally to 3, relief in hours is increased so we are assuming that Level 1 has the lowest concentration of ingredient A/B and Level 3 has the highest concentration. \n",
    "    - Level 1 concentration being in low concentration of ingredient A & B respectively, cost of compound will be lowest if level 1 is used for the treatment and similarly for level 3 it would be the highest.\n",
    "    - Level 1 concentration being in low concentration of ingredient A & B respectively, side effects(if any) of ingredients will be at lowest levels if level 1 is used for the treatment and similarly for level 3 it would be the highest.\n",
    "\n",
    "So our recommendation to the after going through these observations to the Business :-\n",
    "- Ingredient A , Ingredient B and their interaction are important factors in deciding the average relief in hours.\n",
    "\n",
    "- Treatment in which ingredient A and ingredient B are at the lowest level (Level 1) gives the least relief to the patients. So business should avoid this treatment to the patients\n",
    "\n",
    "- Treatement in which concentration is changed from level 2 to level 3 for either ingredient A or B then correspondigly it should be changed to level 3 for other ingredient too. Otherwise we would not get sufficient inrease in relief. For example in treatment with A 2,  B 1 and in A 3 , B 1 mean relief is not increased significantly. Similarly relief is same for treatment B2,A1 and B3,A1. So in these treatments even if we are increasing the concentration of only one ingredient to highest level 3 and ignoring other ingredient then we are not getting substantial rise in relief. So this should be avoided by Business.\n",
    "\n",
    "- Treatment in which ingredient A and ingredient B are at the highest level (Level 3) gives the most relief to the patients. So if costing works out for the company and there are no side effects of highest concentration levels of ingredients A & B, this treatment can be chosen by the Business for treatment"
   ]
  }
 ],
 "metadata": {
  "colab": {
   "collapsed_sections": [],
   "name": "Titan_casestudy.ipynb",
   "provenance": []
  },
  "kernelspec": {
   "display_name": "Python 3",
   "language": "python",
   "name": "python3"
  },
  "language_info": {
   "codemirror_mode": {
    "name": "ipython",
    "version": 3
   },
   "file_extension": ".py",
   "mimetype": "text/x-python",
   "name": "python",
   "nbconvert_exporter": "python",
   "pygments_lexer": "ipython3",
   "version": "3.8.3"
  },
  "toc": {
   "base_numbering": 1,
   "nav_menu": {},
   "number_sections": true,
   "sideBar": true,
   "skip_h1_title": false,
   "title_cell": "Table of Contents",
   "title_sidebar": "Contents",
   "toc_cell": false,
   "toc_position": {},
   "toc_section_display": true,
   "toc_window_display": false
  },
  "varInspector": {
   "cols": {
    "lenName": 16,
    "lenType": 16,
    "lenVar": 40
   },
   "kernels_config": {
    "python": {
     "delete_cmd_postfix": "",
     "delete_cmd_prefix": "del ",
     "library": "var_list.py",
     "varRefreshCmd": "print(var_dic_list())"
    },
    "r": {
     "delete_cmd_postfix": ") ",
     "delete_cmd_prefix": "rm(",
     "library": "var_list.r",
     "varRefreshCmd": "cat(var_dic_list()) "
    }
   },
   "types_to_exclude": [
    "module",
    "function",
    "builtin_function_or_method",
    "instance",
    "_Feature"
   ],
   "window_display": false
  }
 },
 "nbformat": 4,
 "nbformat_minor": 1
}
